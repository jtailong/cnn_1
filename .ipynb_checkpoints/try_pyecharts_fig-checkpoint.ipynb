{
 "cells": [
  {
   "cell_type": "code",
   "execution_count": 1,
   "id": "9402c654-92b2-4a01-80c0-d768dd979c78",
   "metadata": {},
   "outputs": [
    {
     "data": {
      "text/plain": [
       "'/home/jing/Desktop/1/multi_region_layout.html'"
      ]
     },
     "execution_count": 1,
     "metadata": {},
     "output_type": "execute_result"
    }
   ],
   "source": [
    "from pyecharts.charts import Bar, Line, Pie, Grid\n",
    "from pyecharts import options as opts\n",
    "\n",
    "# 示例图表：柱状图\n",
    "def bar_chart() -> Bar:\n",
    "    return (\n",
    "        Bar()\n",
    "        .add_xaxis([\"A\", \"B\", \"C\", \"D\", \"E\"])\n",
    "        .add_yaxis(\"销量\", [10, 20, 30, 40, 50])\n",
    "        .set_global_opts(title_opts=opts.TitleOpts(title=\"柱状图\"))\n",
    "    )\n",
    "\n",
    "# 示例图表：折线图\n",
    "def line_chart() -> Line:\n",
    "    return (\n",
    "        Line()\n",
    "        .add_xaxis([\"A\", \"B\", \"C\", \"D\", \"E\"])\n",
    "        .add_yaxis(\"趋势\", [5, 15, 25, 35, 45])\n",
    "        .set_global_opts(title_opts=opts.TitleOpts(title=\"折线图\"))\n",
    "    )\n",
    "\n",
    "# 示例图表：饼图\n",
    "def pie_chart() -> Pie:\n",
    "    return (\n",
    "        Pie()\n",
    "        .add(\"\", [(\"A\", 40), (\"B\", 30), (\"C\", 20), (\"D\", 10)])\n",
    "        .set_global_opts(title_opts=opts.TitleOpts(title=\"饼图\"))\n",
    "    )\n",
    "\n",
    "# 创建图表实例\n",
    "bar = bar_chart()\n",
    "line = line_chart()\n",
    "pie = pie_chart()\n",
    "\n",
    "# 使用 Grid 来布局图表\n",
    "grid = Grid()\n",
    "\n",
    "# 将图表添加到不同的位置\n",
    "grid.add(bar, grid_opts=opts.GridOpts(pos_top=\"5%\", pos_left=\"5%\", width=\"45%\", height=\"45%\"))\n",
    "grid.add(line, grid_opts=opts.GridOpts(pos_top=\"5%\", pos_right=\"5%\", width=\"45%\", height=\"45%\"))\n",
    "grid.add(pie, grid_opts=opts.GridOpts(pos_top=\"55%\", pos_left=\"5%\", width=\"90%\", height=\"40%\"))\n",
    "\n",
    "# 保存为 HTML 文件\n",
    "grid.render(\"multi_region_layout.html\")\n"
   ]
  },
  {
   "cell_type": "code",
   "execution_count": 4,
   "id": "9b1d03f5-9fc4-4198-b243-628f6a24adcb",
   "metadata": {},
   "outputs": [
    {
     "ename": "AttributeError",
     "evalue": "'NoneType' object has no attribute 'extend'",
     "output_type": "error",
     "traceback": [
      "\u001b[31m---------------------------------------------------------------------------\u001b[39m",
      "\u001b[31mAttributeError\u001b[39m                            Traceback (most recent call last)",
      "\u001b[36mCell\u001b[39m\u001b[36m \u001b[39m\u001b[32mIn[4]\u001b[39m\u001b[32m, line 45\u001b[39m\n\u001b[32m     43\u001b[39m grid.add(china_map, grid_opts=opts.GridOpts(pos_top=\u001b[33m\"\u001b[39m\u001b[33m5\u001b[39m\u001b[33m%\u001b[39m\u001b[33m\"\u001b[39m, pos_left=\u001b[33m\"\u001b[39m\u001b[33m5\u001b[39m\u001b[33m%\u001b[39m\u001b[33m\"\u001b[39m, width=\u001b[33m\"\u001b[39m\u001b[33m40\u001b[39m\u001b[33m%\u001b[39m\u001b[33m\"\u001b[39m, height=\u001b[33m\"\u001b[39m\u001b[33m80\u001b[39m\u001b[33m%\u001b[39m\u001b[33m\"\u001b[39m))\n\u001b[32m     44\u001b[39m \u001b[38;5;66;03m#grid.add(bar, grid_opts=opts.GridOpts(pos_top=\"5%\", pos_right=\"5%\", width=\"45%\", height=\"40%\"))\u001b[39;00m\n\u001b[32m---> \u001b[39m\u001b[32m45\u001b[39m \u001b[43mgrid\u001b[49m\u001b[43m.\u001b[49m\u001b[43madd\u001b[49m\u001b[43m(\u001b[49m\u001b[43mline\u001b[49m\u001b[43m,\u001b[49m\u001b[43m \u001b[49m\u001b[43mgrid_opts\u001b[49m\u001b[43m=\u001b[49m\u001b[43mopts\u001b[49m\u001b[43m.\u001b[49m\u001b[43mGridOpts\u001b[49m\u001b[43m(\u001b[49m\u001b[43mpos_top\u001b[49m\u001b[43m=\u001b[49m\u001b[33;43m\"\u001b[39;49m\u001b[33;43m50\u001b[39;49m\u001b[33;43m%\u001b[39;49m\u001b[33;43m\"\u001b[39;49m\u001b[43m,\u001b[49m\u001b[43m \u001b[49m\u001b[43mpos_right\u001b[49m\u001b[43m=\u001b[49m\u001b[33;43m\"\u001b[39;49m\u001b[33;43m5\u001b[39;49m\u001b[33;43m%\u001b[39;49m\u001b[33;43m\"\u001b[39;49m\u001b[43m,\u001b[49m\u001b[43m \u001b[49m\u001b[43mwidth\u001b[49m\u001b[43m=\u001b[49m\u001b[33;43m\"\u001b[39;49m\u001b[33;43m45\u001b[39;49m\u001b[33;43m%\u001b[39;49m\u001b[33;43m\"\u001b[39;49m\u001b[43m,\u001b[49m\u001b[43m \u001b[49m\u001b[43mheight\u001b[49m\u001b[43m=\u001b[49m\u001b[33;43m\"\u001b[39;49m\u001b[33;43m40\u001b[39;49m\u001b[33;43m%\u001b[39;49m\u001b[33;43m\"\u001b[39;49m\u001b[43m)\u001b[49m\u001b[43m)\u001b[49m\n\u001b[32m     47\u001b[39m \u001b[38;5;66;03m# 保存为 HTML 文件\u001b[39;00m\n\u001b[32m     48\u001b[39m grid.render(\u001b[33m\"\u001b[39m\u001b[33mmap_with_subcharts.html\u001b[39m\u001b[33m\"\u001b[39m)\n",
      "\u001b[36mFile \u001b[39m\u001b[32m~/Desktop/1/myenv/lib/python3.12/site-packages/pyecharts/charts/composite_charts/grid.py:104\u001b[39m, in \u001b[36mGrid.add\u001b[39m\u001b[34m(self, chart, grid_opts, grid_index, is_control_axis_index)\u001b[39m\n\u001b[32m    102\u001b[39m \u001b[38;5;28mself\u001b[39m.options.get(\u001b[33m\"\u001b[39m\u001b[33mlegend\u001b[39m\u001b[33m\"\u001b[39m).extend(chart.options.get(\u001b[33m\"\u001b[39m\u001b[33mlegend\u001b[39m\u001b[33m\"\u001b[39m))\n\u001b[32m    103\u001b[39m \u001b[38;5;28;01mif\u001b[39;00m \u001b[38;5;28misinstance\u001b[39m(chart, RectChart):\n\u001b[32m--> \u001b[39m\u001b[32m104\u001b[39m     \u001b[38;5;28;43mself\u001b[39;49m\u001b[43m.\u001b[49m\u001b[43moptions\u001b[49m\u001b[43m.\u001b[49m\u001b[43mget\u001b[49m\u001b[43m(\u001b[49m\u001b[33;43m\"\u001b[39;49m\u001b[33;43mxAxis\u001b[39;49m\u001b[33;43m\"\u001b[39;49m\u001b[43m)\u001b[49m\u001b[43m.\u001b[49m\u001b[43mextend\u001b[49m(chart.options.get(\u001b[33m\"\u001b[39m\u001b[33mxAxis\u001b[39m\u001b[33m\"\u001b[39m))\n\u001b[32m    105\u001b[39m     \u001b[38;5;28mself\u001b[39m.options.get(\u001b[33m\"\u001b[39m\u001b[33myAxis\u001b[39m\u001b[33m\"\u001b[39m).extend(chart.options.get(\u001b[33m\"\u001b[39m\u001b[33myAxis\u001b[39m\u001b[33m\"\u001b[39m))\n\u001b[32m    106\u001b[39m \u001b[38;5;28;01mif\u001b[39;00m \u001b[38;5;28misinstance\u001b[39m(chart, Radar):\n",
      "\u001b[31mAttributeError\u001b[39m: 'NoneType' object has no attribute 'extend'"
     ]
    }
   ],
   "source": [
    "from pyecharts.charts import Map, Bar, Line, Grid\n",
    "from pyecharts import options as opts\n",
    "\n",
    "# 示例地图：绘制中国地图\n",
    "def map_chart() -> Map:\n",
    "    data = [(\"北京\", 10), (\"上海\", 20), (\"广东\", 30), (\"浙江\", 40), (\"江苏\", 50)]\n",
    "    return (\n",
    "        Map()\n",
    "        .add(\"省份\", data, \"china\")\n",
    "        .set_global_opts(\n",
    "            title_opts=opts.TitleOpts(title=\"中国省份地图\"),\n",
    "            visualmap_opts=opts.VisualMapOpts(min_=0, max_=50, range_color=[\"#F4E1D2\", \"#D2691E\"]),\n",
    "        )\n",
    "    )\n",
    "\n",
    "# 示例柱状图：绘制简单的柱状图\n",
    "def bar_chart() -> Bar:\n",
    "    return (\n",
    "        Bar()\n",
    "        .add_xaxis([\"A\", \"B\", \"C\", \"D\", \"E\"])\n",
    "        .add_yaxis(\"销量\", [10, 20, 30, 40, 50])\n",
    "        .set_global_opts(title_opts=opts.TitleOpts(title=\"柱状图\"))\n",
    "    )\n",
    "\n",
    "# 示例折线图：绘制简单的折线图\n",
    "def line_chart() -> Line:\n",
    "    return (\n",
    "        Line()\n",
    "        .add_xaxis([\"A\", \"B\", \"C\", \"D\", \"E\"])\n",
    "        .add_yaxis(\"趋势\", [5, 15, 25, 35, 45])\n",
    "        .set_global_opts(title_opts=opts.TitleOpts(title=\"折线图\"))\n",
    "    )\n",
    "\n",
    "# 创建图表实例\n",
    "china_map = map_chart()\n",
    "bar = bar_chart()\n",
    "line = line_chart()\n",
    "\n",
    "# 使用 Grid 来布局图表\n",
    "grid = Grid()\n",
    "\n",
    "# 将地图、柱状图和折线图添加到不同的位置\n",
    "grid.add(china_map, grid_opts=opts.GridOpts(pos_top=\"5%\", pos_left=\"5%\", width=\"40%\", height=\"80%\"))\n",
    "#grid.add(bar, grid_opts=opts.GridOpts(pos_top=\"5%\", pos_right=\"5%\", width=\"45%\", height=\"40%\"))\n",
    "grid.add(line, grid_opts=opts.GridOpts(pos_top=\"50%\", pos_right=\"5%\", width=\"45%\", height=\"40%\"))\n",
    "\n",
    "# 保存为 HTML 文件\n",
    "grid.render(\"map_with_subcharts.html\")\n"
   ]
  },
  {
   "cell_type": "code",
   "execution_count": 7,
   "id": "4f77123e-1daf-4540-af4d-093ccc289a26",
   "metadata": {},
   "outputs": [
    {
     "data": {
      "text/plain": [
       "'/home/jing/Desktop/1/page_with_map_and_grid.html'"
      ]
     },
     "execution_count": 7,
     "metadata": {},
     "output_type": "execute_result"
    }
   ],
   "source": [
    "from pyecharts.charts import Map, Bar, Line, Grid, Page\n",
    "from pyecharts import options as opts\n",
    "\n",
    "# 示例地图：绘制中国地图\n",
    "def map_chart() -> Map:\n",
    "    data = [(\"北京\", 10), (\"上海\", 20), (\"广东\", 30), (\"浙江\", 40), (\"江苏\", 50)]\n",
    "    return (\n",
    "        Map()\n",
    "        .add(\"省份\", data, \"china\")\n",
    "        .set_global_opts(\n",
    "            title_opts=opts.TitleOpts(title=\"中国省份地图\"),\n",
    "            visualmap_opts=opts.VisualMapOpts(min_=0, max_=50, range_color=[\"#F4E1D2\", \"#D2691E\"]),\n",
    "        )\n",
    "    )\n",
    "\n",
    "# 示例柱状图：绘制简单的柱状图\n",
    "def bar_chart() -> Bar:\n",
    "    return (\n",
    "        Bar()\n",
    "        .add_xaxis([\"A\", \"B\", \"C\", \"D\", \"E\"])\n",
    "        .add_yaxis(\"销量\", [10, 20, 30, 40, 50])\n",
    "        .set_global_opts(title_opts=opts.TitleOpts(title=\"柱状图\"))\n",
    "    )\n",
    "\n",
    "# 示例折线图：绘制简单的折线图\n",
    "def line_chart() -> Line:\n",
    "    return (\n",
    "        Line()\n",
    "        .add_xaxis([\"A\", \"B\", \"C\", \"D\", \"E\"])\n",
    "        .add_yaxis(\"趋势\", [5, 15, 25, 35, 45])\n",
    "        .set_global_opts(title_opts=opts.TitleOpts(title=\"折线图\"))\n",
    "    )\n",
    "\n",
    "# 创建图表实例\n",
    "china_map = map_chart()\n",
    "bar = bar_chart()\n",
    "line = line_chart()\n",
    "\n",
    "# 使用 Grid 来布局图表（只放非地图图表）\n",
    "grid = Grid()\n",
    "\n",
    "# 将柱状图和折线图添加到 Grid\n",
    "grid.add(bar, grid_opts=opts.GridOpts(pos_top=\"5%\", pos_left=\"50%\", width=\"45%\", height=\"40%\"))\n",
    "grid.add(line, grid_opts=opts.GridOpts(pos_top=\"50%\", pos_left=\"5%\", width=\"45%\", height=\"40%\"))\n",
    "\n",
    "# 使用 Page 来将 Map 放置在页面上，并加入 Grid 布局的图表\n",
    "page = Page()\n",
    "page.add(china_map)  # 将 Map 图表添加到 Page 中\n",
    "page.add(grid)  # 将 Grid 中的图表添加到 Page 中\n",
    "\n",
    "# 保存为 HTML 文件\n",
    "page.render(\"page_with_map_and_grid.html\")\n"
   ]
  },
  {
   "cell_type": "code",
   "execution_count": 8,
   "id": "192e7cce-d392-4cf4-a787-2f52f305feef",
   "metadata": {},
   "outputs": [
    {
     "data": {
      "text/plain": [
       "'/home/jing/Desktop/1/taiwan_military_situation.html'"
      ]
     },
     "execution_count": 8,
     "metadata": {},
     "output_type": "execute_result"
    }
   ],
   "source": [
    "from pyecharts.charts import Map, Radar, Page, Grid\n",
    "from pyecharts import options as opts\n",
    "\n",
    "# 创建地图并标记位置\n",
    "def map_chart() -> Map:\n",
    "    data = [\n",
    "        (\"中国\", 10),\n",
    "        (\"美国\", 20),\n",
    "        (\"日本\", 30),\n",
    "        (\"台湾\", 40),\n",
    "    ]\n",
    "    map_chart = (\n",
    "        Map()\n",
    "        .add(\"台海军事态势\", data, \"china\")\n",
    "        .set_global_opts(\n",
    "            title_opts=opts.TitleOpts(title=\"台海军事态势\"),\n",
    "            visualmap_opts=opts.VisualMapOpts(min_=0, max_=50),\n",
    "        )\n",
    "    )\n",
    "    return map_chart\n",
    "\n",
    "# 创建雷达图，显示军事关系、方向等\n",
    "def radar_chart() -> Radar:\n",
    "    radar = (\n",
    "        Radar()\n",
    "        .add_schema(\n",
    "            schema=[\n",
    "                opts.RadarIndicatorItem(name=\"大陸\", max_=10),\n",
    "                opts.RadarIndicatorItem(name=\"美国\", max_=10),\n",
    "                opts.RadarIndicatorItem(name=\"日本\", max_=10),\n",
    "                opts.RadarIndicatorItem(name=\"其他\", max_=10),\n",
    "            ]\n",
    "        )\n",
    "        .add(\"军事方向\", [[5, 7, 6, 8]], linestyle_opts=opts.LineStyleOpts(color=\"blue\"))\n",
    "        .set_global_opts(title_opts=opts.TitleOpts(title=\"军事方向\"))\n",
    "    )\n",
    "    return radar\n",
    "\n",
    "# 创建页面布局\n",
    "page = Page()\n",
    "\n",
    "# 将地图和雷达图添加到页面\n",
    "page.add(map_chart())\n",
    "page.add(radar_chart())\n",
    "\n",
    "# 渲染页面\n",
    "page.render(\"taiwan_military_situation.html\")\n"
   ]
  },
  {
   "cell_type": "code",
   "execution_count": 10,
   "id": "e125de1f-221d-42cc-a499-73c129ff7a92",
   "metadata": {},
   "outputs": [
    {
     "data": {
      "text/plain": [
       "'/home/jing/Desktop/1/sunburst_chart.html'"
      ]
     },
     "execution_count": 10,
     "metadata": {},
     "output_type": "execute_result"
    }
   ],
   "source": [
    "from pyecharts.charts import Sunburst\n",
    "from pyecharts import options as opts\n",
    "\n",
    "# 创建Sunburst图\n",
    "def sunburst_chart() -> Sunburst:\n",
    "    data = [\n",
    "        {\n",
    "            \"name\": \"根节点\",  # 根节点\n",
    "            \"value\": 10,\n",
    "            \"children\": [\n",
    "                {\n",
    "                    \"name\": \"子节点 1\",\n",
    "                    \"value\": 5,\n",
    "                    \"children\": [\n",
    "                        {\"name\": \"子节点 1.1\", \"value\": 2},\n",
    "                        {\"name\": \"子节点 1.2\", \"value\": 3},\n",
    "                    ]\n",
    "                },\n",
    "                {\n",
    "                    \"name\": \"子节点 2\",\n",
    "                    \"value\": 5,\n",
    "                    \"children\": [\n",
    "                        {\"name\": \"子节点 2.1\", \"value\": 2},\n",
    "                        {\"name\": \"子节点 2.2\", \"value\": 3},\n",
    "                    ]\n",
    "                }\n",
    "            ]\n",
    "        }\n",
    "    ]\n",
    "    \n",
    "    chart = (\n",
    "        Sunburst()\n",
    "        .add(\"层级结构\", data)\n",
    "        .set_global_opts(title_opts=opts.TitleOpts(title=\"Sunburst 图示例\"))\n",
    "    )\n",
    "    return chart\n",
    "\n",
    "# 渲染图表\n",
    "sunburst = sunburst_chart()\n",
    "sunburst.render(\"sunburst_chart.html\")\n"
   ]
  }
 ],
 "metadata": {
  "kernelspec": {
   "display_name": "Python 3 (ipykernel)",
   "language": "python",
   "name": "python3"
  },
  "language_info": {
   "codemirror_mode": {
    "name": "ipython",
    "version": 3
   },
   "file_extension": ".py",
   "mimetype": "text/x-python",
   "name": "python",
   "nbconvert_exporter": "python",
   "pygments_lexer": "ipython3",
   "version": "3.12.3"
  }
 },
 "nbformat": 4,
 "nbformat_minor": 5
}
