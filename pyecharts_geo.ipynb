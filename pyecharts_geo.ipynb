{
 "cells": [
  {
   "cell_type": "code",
   "execution_count": 3,
   "id": "848a88a1-cd05-4f46-94a5-10368ee4b2fa",
   "metadata": {},
   "outputs": [
    {
     "data": {
      "text/plain": [
       "'/home/jing/Desktop/1/china_map.html'"
      ]
     },
     "execution_count": 3,
     "metadata": {},
     "output_type": "execute_result"
    }
   ],
   "source": [
    "\n",
    "\n",
    "\n",
    "from pyecharts import options as opts\n",
    "from pyecharts.charts import Map\n",
    "\n",
    "from pyecharts.globals import ChartType, SymbolType\n",
    "\n",
    "provinces = [\"guangz\"]\n",
    "values = [10]\n",
    "\n",
    "china_map = Map()\n",
    "\n",
    "china_map.set_global_opts(\n",
    "\n",
    "    title_opts=opts.TitleOpts(title=\"map\"),\n",
    "    visualmap_opts = opts.VisualMapOpts(max_=100, min_=50, is_piecewise=True)\n",
    ")\n",
    "\n",
    "china_map.add(\"china\",[list(z) for z in zip(provinces, values)],\"china\")\n",
    "\n",
    "china_map.render(\"china_map.html\")\n",
    "\n"
   ]
  },
  {
   "cell_type": "code",
   "execution_count": 11,
   "id": "a4864f7b-2810-4b88-896c-ddcc503b7ea2",
   "metadata": {},
   "outputs": [
    {
     "data": {
      "text/plain": [
       "'/home/jing/Desktop/1/taiwan_economic_status.html'"
      ]
     },
     "execution_count": 11,
     "metadata": {},
     "output_type": "execute_result"
    }
   ],
   "source": [
    "from pyecharts.charts import Geo, Bar, Grid\n",
    "from pyecharts import options as opts\n",
    "from pyecharts.globals import ChartType, SymbolType, GeoType\n",
    "\n",
    "# 地图部分\n",
    "geo = (\n",
    "    Geo()\n",
    "    .add_schema(maptype=\"world\")\n",
    "    .add_coordinate(\"台北\", 121.5, 25.03)\n",
    "    .add_coordinate(\"马尼拉\", 120.98, 14.6)\n",
    "    .add(\"事件标注\", [(\"台北\", 1), (\"马尼拉\", 1)], type_=ChartType.EFFECT_SCATTER)\n",
    "    .set_series_opts(label_opts=opts.LabelOpts(is_show=False))\n",
    "    .set_global_opts(title_opts=opts.TitleOpts(title=\"台海经济态势图\"))\n",
    ")\n",
    "\n",
    "# 柱状图 1：就业率对比\n",
    "bar1 = (\n",
    "    Bar()\n",
    "    .add_xaxis([\"日本\", \"美国\", \"台湾\", \"大陆\"])\n",
    "    .add_yaxis(\"就业率\", [95, 92, 90, 93], stack=\"stack1\", color=\"#2b7bff\")\n",
    "    .add_yaxis(\"失业率\", [5, 8, 10, 7], stack=\"stack1\", color=\"#a0d911\")\n",
    "    .set_global_opts(title_opts=opts.TitleOpts(title=\"就业率对比\"))\n",
    ")\n",
    "\n",
    "\n",
    "\n",
    "geo.render(\"taiwan_economic_status.html\")"
   ]
  },
  {
   "cell_type": "code",
   "execution_count": 12,
   "id": "62c51cf4-20c3-42f1-973d-537c4149720e",
   "metadata": {},
   "outputs": [
    {
     "data": {
      "text/plain": [
       "'/home/jing/Desktop/1/map_marker_demo.html'"
      ]
     },
     "execution_count": 12,
     "metadata": {},
     "output_type": "execute_result"
    }
   ],
   "source": [
    "from pyecharts.charts import Geo\n",
    "from pyecharts import options as opts\n",
    "from pyecharts.globals import ChartType\n",
    "\n",
    "geo = (\n",
    "    Geo()\n",
    "    .add_schema(maptype=\"world\")\n",
    "    .add_coordinate(\"台北\", 121.5, 25.03)\n",
    "    .add_coordinate(\"马尼拉\", 120.98, 14.6)\n",
    "    .add_coordinate(\"厦门\", 118.1, 24.46)\n",
    "    .add(\n",
    "        \"政策事件\",\n",
    "        [(\"台北\", 1), (\"马尼拉\", 1), (\"厦门\", 1)],\n",
    "        type_=ChartType.EFFECT_SCATTER,\n",
    "        symbol_size=12,\n",
    "        color=\"red\"\n",
    "    )\n",
    "    .set_series_opts(\n",
    "        label_opts=opts.LabelOpts(is_show=True, formatter=\"{b}\", position=\"right\")\n",
    "    )\n",
    "    .set_global_opts(\n",
    "        title_opts=opts.TitleOpts(title=\"台海地图标注示例\"),\n",
    "        visualmap_opts=opts.VisualMapOpts(is_show=False)\n",
    "    )\n",
    ")\n",
    "\n",
    "geo.render(\"map_marker_demo.html\")\n"
   ]
  },
  {
   "cell_type": "code",
   "execution_count": 13,
   "id": "ecfaab5a-73ba-40ea-8bf0-337f6f6a09bc",
   "metadata": {},
   "outputs": [
    {
     "data": {
      "text/plain": [
       "'/home/jing/Desktop/1/geo_with_coordinates.html'"
      ]
     },
     "execution_count": 13,
     "metadata": {},
     "output_type": "execute_result"
    }
   ],
   "source": [
    "from pyecharts.charts import Geo\n",
    "from pyecharts import options as opts\n",
    "from pyecharts.globals import ChartType\n",
    "\n",
    "geo = (\n",
    "    Geo()\n",
    "    .add_schema(maptype=\"world\")\n",
    "    .add_coordinate(\"台北\", 121.5, 25.03)\n",
    "    .add_coordinate(\"东京\", 139.69, 35.68)\n",
    "    .add_coordinate(\"北京\", 116.4, 39.9)\n",
    "    .add_coordinate(\"马尼拉\", 120.98, 14.6)\n",
    "    .add(\n",
    "        \"主要城市\",\n",
    "        [(\"台北\", 1), (\"东京\", 1), (\"北京\", 1), (\"马尼拉\", 1)],\n",
    "        type_=ChartType.SCATTER,\n",
    "        symbol_size=10,\n",
    "        color=\"blue\"\n",
    "    )\n",
    "    .set_series_opts(\n",
    "        label_opts=opts.LabelOpts(is_show=True, formatter=\"{b}\", font_size=12)\n",
    "    )\n",
    "    .set_global_opts(\n",
    "        title_opts=opts.TitleOpts(title=\"亚太主要城市经纬标注图\"),\n",
    "        visualmap_opts=opts.VisualMapOpts(is_show=False)\n",
    "    )\n",
    ")\n",
    "\n",
    "geo.render(\"geo_with_coordinates.html\")\n"
   ]
  },
  {
   "cell_type": "code",
   "execution_count": 17,
   "id": "abff65b3-f0c2-436a-b408-f4cd5edee0b0",
   "metadata": {},
   "outputs": [
    {
     "ename": "KeyError",
     "evalue": "'Geo'",
     "output_type": "error",
     "traceback": [
      "\u001b[31m---------------------------------------------------------------------------\u001b[39m",
      "\u001b[31mKeyError\u001b[39m                                  Traceback (most recent call last)",
      "\u001b[36mCell\u001b[39m\u001b[36m \u001b[39m\u001b[32mIn[17]\u001b[39m\u001b[32m, line 20\u001b[39m\n\u001b[32m      7\u001b[39m c = (\n\u001b[32m      8\u001b[39m     Map()\n\u001b[32m      9\u001b[39m     .add(\u001b[33m\"\u001b[39m\u001b[33m亚太地区\u001b[39m\u001b[33m\"\u001b[39m, data, maptype=\u001b[33m\"\u001b[39m\u001b[33mworld\u001b[39m\u001b[33m\"\u001b[39m, is_map_symbol_show=\u001b[38;5;28;01mFalse\u001b[39;00m)\n\u001b[32m   (...)\u001b[39m\u001b[32m     17\u001b[39m     )\n\u001b[32m     18\u001b[39m )\n\u001b[32m     19\u001b[39m \u001b[38;5;66;03m# 限制显示范围（pyecharts 没有直接裁剪地图的功能，可用缩放替代）\u001b[39;00m\n\u001b[32m---> \u001b[39m\u001b[32m20\u001b[39m \u001b[43mc\u001b[49m\u001b[43m.\u001b[49m\u001b[43moptions\u001b[49m\u001b[43m[\u001b[49m\u001b[33;43m\"\u001b[39;49m\u001b[33;43mGeo\u001b[39;49m\u001b[33;43m\"\u001b[39;49m\u001b[43m]\u001b[49m[\u001b[32m0\u001b[39m].update(\n\u001b[32m     21\u001b[39m     {\n\u001b[32m     22\u001b[39m         \u001b[33m\"\u001b[39m\u001b[33mcenter\u001b[39m\u001b[33m\"\u001b[39m: [\u001b[32m120\u001b[39m, \u001b[32m25\u001b[39m],  \u001b[38;5;66;03m# 聚焦经纬度（以台湾附近为中心）\u001b[39;00m\n\u001b[32m     23\u001b[39m         \u001b[33m\"\u001b[39m\u001b[33mzoom\u001b[39m\u001b[33m\"\u001b[39m: \u001b[32m4\u001b[39m,            \u001b[38;5;66;03m# 放大倍数\u001b[39;00m\n\u001b[32m     24\u001b[39m     }\n\u001b[32m     25\u001b[39m )\n\u001b[32m     28\u001b[39m c.render(\u001b[33m\"\u001b[39m\u001b[33masia_pacific_map.html\u001b[39m\u001b[33m\"\u001b[39m)\n",
      "\u001b[31mKeyError\u001b[39m: 'Geo'"
     ]
    }
   ],
   "source": [
    "from pyecharts.charts import Map\n",
    "from pyecharts import options as opts\n",
    "\n",
    "# 自定义中国大陆和台湾的值\n",
    "data = [(\"中国\", 1), (\"台湾\", 1)]\n",
    "\n",
    "c = (\n",
    "    Map()\n",
    "    .add(\"亚太地区\", data, maptype=\"world\", is_map_symbol_show=False)\n",
    "    .set_series_opts(\n",
    "        label_opts=opts.LabelOpts(is_show=True, formatter=\"{b}\", font_size=14, color=\"#000\")\n",
    "    )\n",
    "    .set_global_opts(\n",
    "        title_opts=opts.TitleOpts(title=\"亚太区域地图 - 大陆与台湾标注\"),\n",
    "        visualmap_opts=opts.VisualMapOpts(is_show=False),\n",
    "        toolbox_opts=opts.ToolboxOpts(is_show=True),\n",
    "    )\n",
    ")\n",
    "# 限制显示范围（pyecharts 没有直接裁剪地图的功能，可用缩放替代）\n",
    "c.options[\"Geo\"][0].update(\n",
    "    {\n",
    "        \"center\": [120, 25],  # 聚焦经纬度（以台湾附近为中心）\n",
    "        \"zoom\": 4,            # 放大倍数\n",
    "    }\n",
    ")\n",
    "\n",
    "\n",
    "c.render(\"asia_pacific_map.html\")\n"
   ]
  },
  {
   "cell_type": "code",
   "execution_count": 20,
   "id": "8d2ceb5c-7f3b-493c-8d5d-0161588c0f64",
   "metadata": {},
   "outputs": [],
   "source": [
    "from pyecharts import options as opts\n",
    "from pyecharts.charts import Map\n",
    "from pyecharts.faker import Faker\n",
    "\n",
    "\n",
    "c = (\n",
    "    Map()\n",
    "    .add(\"cities\",[list(z) for z in zip(Faker.provinces, Faker.values())],\"china\")\n",
    "    .set_global_opts(title_opts=opts.TitleOpts(title=\"china map\"))\n",
    "    .render(\"chinamap.html\")\n",
    ")\n",
    "\n"
   ]
  },
  {
   "cell_type": "code",
   "execution_count": 22,
   "id": "4c394839-04d4-47f8-b50d-45eb31f6be3c",
   "metadata": {},
   "outputs": [],
   "source": [
    "from pyecharts import options as opts\n",
    "from pyecharts.charts import Map\n",
    "from pyecharts.faker import Faker\n",
    "x = [\"wuchan\",\"wanzhou\"]\n",
    "y = [123,560]\n",
    "\n",
    "c = (\n",
    "    Map(init_opts=opts.InitOpts(width=\"1400px\",height=\"700px\"))\n",
    "    .add(\"cities\",[list(z) for z in zip(x,y)],\"chongqing\")\n",
    "    .set_global_opts(\n",
    "        title_opts=opts.TitleOpts(title=\"chongqingmap\"),visualmap_opts=opts.VisualMapOpts(max_=560)\n",
    "    )\n",
    "    .render(\"chongqingmap.html\")\n",
    ")\n"
   ]
  },
  {
   "cell_type": "code",
   "execution_count": 47,
   "id": "9ab6fbc2-c0af-4f6f-9d33-d28742420d1f",
   "metadata": {},
   "outputs": [
    {
     "data": {
      "text/plain": [
       "'/home/jing/Desktop/1/test.html'"
      ]
     },
     "execution_count": 47,
     "metadata": {},
     "output_type": "execute_result"
    }
   ],
   "source": [
    "from pyecharts.charts import Geo\n",
    "from pyecharts import options as opts\n",
    "from pyecharts.charts import Map\n",
    "from pyecharts.globals import ThemeType\n",
    "from pyecharts.charts import Page, Bar\n",
    "\n",
    "c = (\n",
    "    Map(opts.InitOpts(width='1850px',height='900px',theme=ThemeType.VINTAGE,chart_id='000000'))\n",
    "    .add(\"World Map\", [list(z) for z in zip(['China','United States','Taiwan'],[20,100,20])],\"world\")\n",
    "    .set_series_opts(label_opts=opts.LabelOpts(is_show=False))\n",
    "    .set_global_opts(\n",
    "        title_opts=opts.TitleOpts(title=\"Map-world Mpa\"),\n",
    "        visualmap_opts=opts.VisualMapOpts(max_=200)\n",
    "    )\n",
    "    \n",
    ")\n",
    "\n",
    "c.render(\"world_map.html\")\n",
    "#c.render_notebook()\n",
    "\n",
    "bar = Bar()\n",
    " \n",
    "# 添加 X 轴数据和 Y 轴数据\n",
    "bar.add_xaxis([\"苹果\", \"香蕉\", \"橙子\", \"葡萄\", \"樱桃\"])\n",
    "bar.add_yaxis(\"水果销量\", [5, 20, 36, 10, 75])\n",
    " \n",
    "# 设置全局配置项，例如标题、工具箱等\n",
    "bar.set_global_opts(title_opts=opts.TitleOpts(title=\"水果销量条形图\"),\n",
    "                    toolbox_opts=opts.ToolboxOpts())\n",
    " \n",
    "# 渲染图表到 HTML 文件\n",
    "bar.render(\"bar_chart.html\")\n",
    "\n",
    "page = Page(layout=Page.DraggablePageLayout)\n",
    "\n",
    "page.add(c,bar)\n",
    "page.render(\"test.html\")"
   ]
  },
  {
   "cell_type": "code",
   "execution_count": 41,
   "id": "bd834ebf-8aec-4051-b1a2-181fc98bc1a6",
   "metadata": {},
   "outputs": [
    {
     "ename": "FeatureNotFound",
     "evalue": "Couldn't find a tree builder with the features you requested: lxml. Do you need to install a parser library?",
     "output_type": "error",
     "traceback": [
      "\u001b[31m---------------------------------------------------------------------------\u001b[39m",
      "\u001b[31mFeatureNotFound\u001b[39m                           Traceback (most recent call last)",
      "\u001b[36mCell\u001b[39m\u001b[36m \u001b[39m\u001b[32mIn[41]\u001b[39m\u001b[32m, line 5\u001b[39m\n\u001b[32m      3\u001b[39m \u001b[38;5;66;03m# 读取HTML文件\u001b[39;00m\n\u001b[32m      4\u001b[39m \u001b[38;5;28;01mwith\u001b[39;00m \u001b[38;5;28mopen\u001b[39m(\u001b[33m'\u001b[39m\u001b[33mworld_map.html\u001b[39m\u001b[33m'\u001b[39m, \u001b[33m'\u001b[39m\u001b[33mr\u001b[39m\u001b[33m'\u001b[39m, encoding=\u001b[33m'\u001b[39m\u001b[33mutf-8\u001b[39m\u001b[33m'\u001b[39m) \u001b[38;5;28;01mas\u001b[39;00m file:\n\u001b[32m----> \u001b[39m\u001b[32m5\u001b[39m     soup = \u001b[43mBeautifulSoup\u001b[49m\u001b[43m(\u001b[49m\u001b[43mfile\u001b[49m\u001b[43m,\u001b[49m\u001b[43m \u001b[49m\u001b[33;43m'\u001b[39;49m\u001b[33;43mlxml\u001b[39;49m\u001b[33;43m'\u001b[39;49m\u001b[43m)\u001b[49m  \u001b[38;5;66;03m# 或者使用 'html.parser'\u001b[39;00m\n\u001b[32m      7\u001b[39m \u001b[38;5;66;03m# 找到要插入的位置，例如在<head>标签后插入\u001b[39;00m\n\u001b[32m      8\u001b[39m head_tag = soup.head\n",
      "\u001b[36mFile \u001b[39m\u001b[32m~/Desktop/1/myenv/lib/python3.12/site-packages/bs4/__init__.py:364\u001b[39m, in \u001b[36mBeautifulSoup.__init__\u001b[39m\u001b[34m(self, markup, features, builder, parse_only, from_encoding, exclude_encodings, element_classes, **kwargs)\u001b[39m\n\u001b[32m    362\u001b[39m     possible_builder_class = builder_registry.lookup(*features)\n\u001b[32m    363\u001b[39m     \u001b[38;5;28;01mif\u001b[39;00m possible_builder_class \u001b[38;5;129;01mis\u001b[39;00m \u001b[38;5;28;01mNone\u001b[39;00m:\n\u001b[32m--> \u001b[39m\u001b[32m364\u001b[39m         \u001b[38;5;28;01mraise\u001b[39;00m FeatureNotFound(\n\u001b[32m    365\u001b[39m             \u001b[33m\"\u001b[39m\u001b[33mCouldn\u001b[39m\u001b[33m'\u001b[39m\u001b[33mt find a tree builder with the features you \u001b[39m\u001b[33m\"\u001b[39m\n\u001b[32m    366\u001b[39m             \u001b[33m\"\u001b[39m\u001b[33mrequested: \u001b[39m\u001b[38;5;132;01m%s\u001b[39;00m\u001b[33m. Do you need to install a parser library?\u001b[39m\u001b[33m\"\u001b[39m\n\u001b[32m    367\u001b[39m             % \u001b[33m\"\u001b[39m\u001b[33m,\u001b[39m\u001b[33m\"\u001b[39m.join(features)\n\u001b[32m    368\u001b[39m         )\n\u001b[32m    369\u001b[39m     builder_class = possible_builder_class\n\u001b[32m    371\u001b[39m \u001b[38;5;66;03m# At this point either we have a TreeBuilder instance in\u001b[39;00m\n\u001b[32m    372\u001b[39m \u001b[38;5;66;03m# builder, or we have a builder_class that we can instantiate\u001b[39;00m\n\u001b[32m    373\u001b[39m \u001b[38;5;66;03m# with the remaining **kwargs.\u001b[39;00m\n",
      "\u001b[31mFeatureNotFound\u001b[39m: Couldn't find a tree builder with the features you requested: lxml. Do you need to install a parser library?"
     ]
    }
   ],
   "source": [
    "from bs4 import BeautifulSoup\n",
    "\n",
    "# 读取HTML文件\n",
    "with open('world_map.html', 'r', encoding='utf-8') as file:\n",
    "    soup = BeautifulSoup(file, 'lxml')  # 或者使用 'html.parser'\n",
    " \n",
    "# 找到要插入的位置，例如在<head>标签后插入\n",
    "head_tag = soup.head\n",
    "new_tag = soup.new_tag('p')\n",
    "new_tag.string = '这里是插入的文字'\n",
    "head_tag.insert_after(new_tag)\n",
    " \n",
    "# 写回文件\n",
    "with open('example.html', 'w', encoding='utf-8') as file:\n",
    "    file.write(str(soup))"
   ]
  }
 ],
 "metadata": {
  "kernelspec": {
   "display_name": "Python 3 (ipykernel)",
   "language": "python",
   "name": "python3"
  },
  "language_info": {
   "codemirror_mode": {
    "name": "ipython",
    "version": 3
   },
   "file_extension": ".py",
   "mimetype": "text/x-python",
   "name": "python",
   "nbconvert_exporter": "python",
   "pygments_lexer": "ipython3",
   "version": "3.12.3"
  }
 },
 "nbformat": 4,
 "nbformat_minor": 5
}
