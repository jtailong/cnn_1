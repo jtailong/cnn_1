{
 "cells": [
  {
   "cell_type": "code",
   "execution_count": 6,
   "id": "f43d9bd2-bdcc-4bfc-b0a5-38b956160a07",
   "metadata": {},
   "outputs": [],
   "source": [
    "from PIL import Image\n",
    "\n",
    "image = Image.open(\"based.png\")\n",
    "\n",
    "new_width = 4200\n",
    "new_height = 2970\n",
    "\n",
    "resized_image = image.resize((new_width,new_he))"
   ]
  }
 ],
 "metadata": {
  "kernelspec": {
   "display_name": "Python 3 (ipykernel)",
   "language": "python",
   "name": "python3"
  },
  "language_info": {
   "codemirror_mode": {
    "name": "ipython",
    "version": 3
   },
   "file_extension": ".py",
   "mimetype": "text/x-python",
   "name": "python",
   "nbconvert_exporter": "python",
   "pygments_lexer": "ipython3",
   "version": "3.12.3"
  }
 },
 "nbformat": 4,
 "nbformat_minor": 5
}
