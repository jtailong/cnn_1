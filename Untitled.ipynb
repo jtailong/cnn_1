{
 "cells": [
  {
   "cell_type": "code",
   "execution_count": 4,
   "id": "a6e1ea2b-9dce-4551-9313-a68e26598f56",
   "metadata": {},
   "outputs": [
    {
     "ename": "SyntaxError",
     "evalue": "expected '(' (3587899502.py, line 1)",
     "output_type": "error",
     "traceback": [
      "  \u001b[36mCell\u001b[39m\u001b[36m \u001b[39m\u001b[32mIn[4]\u001b[39m\u001b[32m, line 1\u001b[39m\n\u001b[31m    \u001b[39m\u001b[31mdef save_resize_html:\u001b[39m\n                        ^\n\u001b[31mSyntaxError\u001b[39m\u001b[31m:\u001b[39m expected '('\n"
     ]
    }
   ],
   "source": [
    "def save_resize_html:\n",
    "\n",
    "    source:str=\"test.html\",\n",
    "\n",
    "    cfg_file:types.Optional[str] = None,\n",
    "    cfg_dict:types.Optional[list] = None,\n",
    "\n",
    "    dest:str = \"resize_render.html\",\n",
    "\n",
    "\n",
    "save_resize_html()"
   ]
  }
 ],
 "metadata": {
  "kernelspec": {
   "display_name": "Python 3 (ipykernel)",
   "language": "python",
   "name": "python3"
  },
  "language_info": {
   "codemirror_mode": {
    "name": "ipython",
    "version": 3
   },
   "file_extension": ".py",
   "mimetype": "text/x-python",
   "name": "python",
   "nbconvert_exporter": "python",
   "pygments_lexer": "ipython3",
   "version": "3.12.3"
  }
 },
 "nbformat": 4,
 "nbformat_minor": 5
}
