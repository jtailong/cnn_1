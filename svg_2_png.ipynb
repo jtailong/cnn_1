{
 "cells": [
  {
   "cell_type": "code",
   "execution_count": 3,
   "id": "8b17188f-4027-4ccc-8b8e-06daf3325d36",
   "metadata": {},
   "outputs": [],
   "source": [
    "import cairosvg\n",
    "\n",
    "svg_file = 'icon.svg'\n",
    "\n",
    "png_file = 'icon.png'\n",
    "\n",
    "cairosvg.svg2png(url=svg_file,write_to=png_file,output_width=800,output_height=600)"
   ]
  }
 ],
 "metadata": {
  "kernelspec": {
   "display_name": "Python 3 (ipykernel)",
   "language": "python",
   "name": "python3"
  },
  "language_info": {
   "codemirror_mode": {
    "name": "ipython",
    "version": 3
   },
   "file_extension": ".py",
   "mimetype": "text/x-python",
   "name": "python",
   "nbconvert_exporter": "python",
   "pygments_lexer": "ipython3",
   "version": "3.12.3"
  }
 },
 "nbformat": 4,
 "nbformat_minor": 5
}
